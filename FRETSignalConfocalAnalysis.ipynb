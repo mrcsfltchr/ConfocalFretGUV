{
 "cells": [
  {
   "cell_type": "code",
   "execution_count": 2,
   "metadata": {},
   "outputs": [],
   "source": [
    "import tifffile as tf\n",
    "import pandas as pd\n",
    "import numpy as np\n",
    "from skimage.transform import hough_circle, hough_circle_peaks\n",
    "from matplotlib import pyplot as plt\n",
    "from skimage.filters import threshold_otsu\n",
    "from skimage.draw import circle_perimeter"
   ]
  },
  {
   "cell_type": "markdown",
   "metadata": {},
   "source": [
    "# Visualise an example\n"
   ]
  },
  {
   "cell_type": "code",
   "execution_count": 12,
   "metadata": {},
   "outputs": [],
   "source": [
    "%matplotlib qt\n",
    "fig, ax = plt.subplots(1,2)\n",
    "names = ['NBD','LissRhod']\n",
    "for i in range(images.shape[0]):\n",
    "    ax[i].imshow(images[i],)\n",
    "    ax[i].set_title(names[i])"
   ]
  },
  {
   "cell_type": "markdown",
   "metadata": {},
   "source": [
    "# Threshold\n",
    "## This is done as the GUV in the liss rhod channel is much brighter than the background"
   ]
  },
  {
   "cell_type": "code",
   "execution_count": 4,
   "metadata": {},
   "outputs": [],
   "source": [
    "def create_bin_edges(image):\n",
    "    bin_image = np.zeros_like(image)\n",
    "    # threshold = threshold_otsu(images[1])\n",
    "    threshold = np.mean(image)+ 3*np.std(image)\n",
    "    bin_image[image> threshold ] = 1\n",
    "    return bin_image"
   ]
  },
  {
   "cell_type": "markdown",
   "metadata": {},
   "source": [
    "# Filter peaks for multiple detections\n",
    "## This is achieved by setting an overlap threshold between pairs of peaks below which the two detections are considered to be from the same true peak.\n"
   ]
  },
  {
   "cell_type": "markdown",
   "metadata": {},
   "source": [
    "### Firstly, we don't expect to find more than 8 guvs in one image for example. so we clip the detections to the top 8 detections"
   ]
  },
  {
   "cell_type": "code",
   "execution_count": 5,
   "metadata": {},
   "outputs": [],
   "source": [
    "def clip_detections(accums,cx,cy,radii,N=8):\n",
    "    accums = accums[:N]\n",
    "    cx = cx[:N]\n",
    "    cy = cy[:N]\n",
    "    radii = radii[:N]\n",
    "    return accums,cx,cy,radii\n"
   ]
  },
  {
   "cell_type": "code",
   "execution_count": 6,
   "metadata": {},
   "outputs": [],
   "source": [
    "def find_duplicates(cxcy):\n",
    "    #cxcy -> ndarray of shape (N_detections,2): initial detected centre coordinates of circles\n",
    "    \n",
    "    for i in range(cxcy.shape[0]):\n",
    "        peak = cxcy[i]\n",
    "        rest  = cxcy[i+1:]\n",
    "\n",
    "        dists = np.linalg.norm(rest - peak,axis = 1)\n",
    "        if i == 0:\n",
    "\n",
    "            multi_detections = np.nonzero(dists < 20)[0] +i+1\n",
    "            \n",
    "        else:\n",
    "            multi_detections = np.concatenate((multi_detections,np.nonzero(dists < 20)[0]+i+1))\n",
    "\n",
    "    return np.unique(multi_detections)\n",
    "\n",
    "    "
   ]
  },
  {
   "cell_type": "code",
   "execution_count": 7,
   "metadata": {},
   "outputs": [],
   "source": [
    "def remove_duplicates(accum,cx,cy,radii,duplicate_coords):\n",
    "    #accum -> 1darray: ordered results of voting on hough circles\n",
    "    #cx -> 1darray: most likely x coords by voting\n",
    "    #cy -> 1darray: most likely y coords by voting\n",
    "    #duplicate_coords -> 1darray: indices of duplicate detections to remove\n",
    "    \n",
    "    accum = np.delete(accum,duplicate_coords)\n",
    "    cx = np.delete(cx,duplicate_coords)\n",
    "    cy = np.delete(cy,duplicate_coords)\n",
    "    radii = np.delete(radii,duplicate_coords)\n",
    "    return accum,cx,cy,radii"
   ]
  },
  {
   "cell_type": "code",
   "execution_count": 9,
   "metadata": {},
   "outputs": [],
   "source": [
    "\n",
    "def segment_detections(image,hough_vals):\n",
    "    #image -> ndarray (512,512): raw image \n",
    "    #hough_vals -> tuple of 4 1d_arrays : post processed hough circle detection\n",
    "    ##############  (accumulator,c_x,c_y,radii)\n",
    "    \n",
    "    \n",
    "    detections_img  = np.zeros_like(image)\n",
    "    i = 1\n",
    "    for x,y, rad in zip(hough_vals[1],hough_vals[2],hough_vals[3]):\n",
    "\n",
    "        circy,circx = circle_perimeter(y,x,rad)\n",
    "        detections_img[circy[circx < 512][circy[circx <512] < 512],circx[circx < 512][circy[circx<512] < 512]] = i\n",
    "        i +=1\n",
    "    # plt.imshow(images[1])\n",
    "    # plt.imshow(detections_img,alpha=1)\n",
    "\n",
    "    return detections_img\n",
    "\n",
    "\n"
   ]
  },
  {
   "cell_type": "markdown",
   "metadata": {},
   "source": [
    "# Create dictionary of guv membrane Intensities for both NBD and LissRhod"
   ]
  },
  {
   "cell_type": "code",
   "execution_count": 10,
   "metadata": {},
   "outputs": [],
   "source": [
    "#configurations\n",
    "radii = np.arange(5,30,3)\n",
    "N = 8"
   ]
  },
  {
   "cell_type": "code",
   "execution_count": 11,
   "metadata": {},
   "outputs": [],
   "source": [
    "\n",
    "\n",
    "def getFretvals(image_directory,N_image,radii,N=8):\n",
    "    \n",
    "    \n",
    "    membrane_intensities={}\n",
    "    guv_radii = {}\n",
    "    \n",
    "    for frame in range(10,N_image):\n",
    "        frame = str(frame)\n",
    "        if len(frame)==1:\n",
    "            frame = '0'+str(frame)\n",
    "        try:\n",
    "            tif = tf.TiffFile(image_directory+'/tifs/Image00'+frame+'.tif')\n",
    "        except FileNotFoundError:\n",
    "            continue\n",
    "        images = tif.asarray()\n",
    "\n",
    "        #create binary edges for circle detection\n",
    "        bin_image = create_bin_edges(images[1])\n",
    "\n",
    "        #circle detection with Hough transform\n",
    "\n",
    "        hough_res = hough_circle(bin_image,radii)\n",
    "\n",
    "        hough_vals = hough_circle_peaks(hough_res,radii)\n",
    "\n",
    "        #clip detections: we don't expect there to be more than a few GUVs in one frame\n",
    "\n",
    "        hough_vals = clip_detections(*hough_vals,N)\n",
    "\n",
    "        #reshape the peak coordinates to exploit some numpy optimizations\n",
    "\n",
    "        cxcy = np.vstack((hough_vals[1],hough_vals[2])).T\n",
    "\n",
    "        #Due to bug in scikit image hough circle peaks function, need to remove duplicates\n",
    "\n",
    "        duplicates = find_duplicates(cxcy)\n",
    "\n",
    "        hough_vals = remove_duplicates(*hough_vals,duplicates)\n",
    "\n",
    "        #Segment instances of circles to get individual GUV membranes\n",
    "\n",
    "        detections_img = segment_detections(images[1],hough_vals)\n",
    "\n",
    "        for _id in np.unique(detections_img):\n",
    "            membrane_intensities[frame+'_'+str(_id)] = [np.mean(images[0][detections_img==_id]),np.mean(images[1][detections_img == _id])]\n",
    "            guv_radii[frame+'_'+str(_id)] = len(detections_img[detections_img==_id])/(2*np.pi)\n",
    "            \n",
    "            \n",
    "    return membrane_intensities,guv_radii\n",
    "\n"
   ]
  },
  {
   "cell_type": "code",
   "execution_count": 12,
   "metadata": {},
   "outputs": [],
   "source": [
    "membrane_intensities10dot75,guv_radii10dot75 = getFretvals('/home/marcus/20200828_FRET_NBD_CALIB1pcNBD_0dot75pc_lissrhod/',55,radii)"
   ]
  },
  {
   "cell_type": "code",
   "execution_count": 13,
   "metadata": {},
   "outputs": [],
   "source": [
    "membrane_intensities11,guv_radii11 = getFretvals('/home/marcus/20200827_NBDFRET_CALIB_1pcNBD1pcLissRhod/',32,radii)"
   ]
  },
  {
   "cell_type": "markdown",
   "metadata": {},
   "source": [
    "# Use numpy indexing to filter GUV detections by radius"
   ]
  },
  {
   "cell_type": "code",
   "execution_count": 14,
   "metadata": {},
   "outputs": [],
   "source": [
    "frets1to0dot75 = {}\n",
    "for key in membrane_intensities10dot75.keys():\n",
    "    frets1to0dot75[key] = membrane_intensities10dot75[key][1]/membrane_intensities10dot75[key][0]"
   ]
  },
  {
   "cell_type": "code",
   "execution_count": 15,
   "metadata": {},
   "outputs": [],
   "source": [
    "frets11 = {}\n",
    "for key in membrane_intensities11.keys():\n",
    "    frets11[key] = membrane_intensities11[key][1]/membrane_intensities11[key][0]"
   ]
  },
  {
   "cell_type": "code",
   "execution_count": 16,
   "metadata": {},
   "outputs": [],
   "source": [
    "frets11data = np.array(list(frets11.values()))\n",
    "frets11keys = np.array(list(frets11.keys()))\n",
    "radii11data = np.array(list(guv_radii11.values()))"
   ]
  },
  {
   "cell_type": "code",
   "execution_count": 17,
   "metadata": {},
   "outputs": [],
   "source": [
    "frets75data = np.array(list(frets1to0dot75.values()))\n",
    "frets75keys = np.array(list(frets1to0dot75.keys()))\n",
    "radii75data=np.array(list(guv_radii10dot75.values()))"
   ]
  },
  {
   "cell_type": "code",
   "execution_count": 18,
   "metadata": {},
   "outputs": [],
   "source": [
    "frets11data = frets11data[radii11data < 30]\n",
    "frets11keys = frets11keys[radii11data < 30]\n",
    "radii11data = radii11data[radii11data < 30]\n",
    "\n",
    "frets11data = frets11data[radii11data >= 15]\n",
    "frets11keys = frets11keys[radii11data >= 15]\n",
    "radii11data = radii11data[radii11data >= 15]"
   ]
  },
  {
   "cell_type": "code",
   "execution_count": 19,
   "metadata": {},
   "outputs": [],
   "source": [
    "frets75data = frets75data[radii75data < 30]\n",
    "frets75keys = frets75keys[radii75data < 30]\n",
    "radii75data = radii75data[radii75data < 30]\n",
    "\n",
    "frets75data = frets75data[radii75data >= 15]\n",
    "frets75keys = frets75keys[radii75data >= 15]\n",
    "radii75data = radii75data[radii75data >= 15]"
   ]
  },
  {
   "cell_type": "code",
   "execution_count": 23,
   "metadata": {},
   "outputs": [
    {
     "data": {
      "text/plain": [
       "Text(0.5, 0, 'FRET ratio')"
      ]
     },
     "execution_count": 23,
     "metadata": {},
     "output_type": "execute_result"
    },
    {
     "data": {
      "image/png": "[encoded data removed]",
      "text/plain": [
       "<Figure size 432x288 with 1 Axes>"
      ]
     },
     "metadata": {
      "needs_background": "light"
     },
     "output_type": "display_data"
    }
   ],
   "source": [
    "%matplotlib inline\n",
    "plt.hist(frets11data,10)\n",
    "plt.hist(frets75data,10)\n",
    "plt.legend(['1%','0.75%'])\n",
    "plt.xlabel('FRET ratio')"
   ]
  },
  {
   "cell_type": "code",
   "execution_count": 25,
   "metadata": {},
   "outputs": [
    {
     "data": {
      "text/plain": [
       "Text(0, 0.5, 'FRET ratio')"
      ]
     },
     "execution_count": 25,
     "metadata": {},
     "output_type": "execute_result"
    },
    {
     "data": {
      "image/png": "[encoded data removed]",
      "text/plain": [
       "<Figure size 432x288 with 1 Axes>"
      ]
     },
     "metadata": {
      "needs_background": "light"
     },
     "output_type": "display_data"
    }
   ],
   "source": [
    "plt.scatter(radii11data,frets11data)\n",
    "plt.xlabel('Radius [pixels]')\n",
    "plt.ylabel('FRET ratio')"
   ]
  },
  {
   "cell_type": "code",
   "execution_count": null,
   "metadata": {},
   "outputs": [],
   "source": []
  }
 ],
 "metadata": {
  "kernelspec": {
   "display_name": "Python 3",
   "language": "python",
   "name": "python3"
  },
  "language_info": {
   "codemirror_mode": {
    "name": "ipython",
    "version": 3
   },
   "file_extension": ".py",
   "mimetype": "text/x-python",
   "name": "python",
   "nbconvert_exporter": "python",
   "pygments_lexer": "ipython3",
   "version": "3.8.5"
  }
 },
 "nbformat": 4,
 "nbformat_minor": 4
}
