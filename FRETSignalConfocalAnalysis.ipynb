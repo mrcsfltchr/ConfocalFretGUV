{
 "cells": [
  {
   "cell_type": "code",
   "execution_count": 1,
   "metadata": {},
   "outputs": [],
   "source": [
    "import tifffile as tf\n",
    "import pandas as pd\n",
    "import numpy as np\n",
    "from skimage.transform import hough_circle, hough_circle_peaks\n",
    "from matplotlib import pyplot as plt\n",
    "from skimage.filters import threshold_otsu\n",
    "from skimage.draw import circle_perimeter"
   ]
  },
  {
   "cell_type": "code",
   "execution_count": 176,
   "metadata": {},
   "outputs": [],
   "source": [
    "tif = tf.TiffFile('/media/marcus/UUI/20200828_FRET_NBD_CALIB1pcNBD_0dot75pc_lissrhod/tifs/Image0017.tif')"
   ]
  },
  {
   "cell_type": "code",
   "execution_count": 6,
   "metadata": {},
   "outputs": [
    {
     "name": "stdout",
     "output_type": "stream",
     "text": [
      "{'HeaderFlag': 1454, 'ImageType': 0, 'ImageName': 'Image0017.oif', 'OffsetData': 0, 'PaletteSize': 0, 'OffsetPalette0': 0, 'OffsetPalette1': 0, 'CommentSize': 0, 'OffsetComment': 67108864, 'Dimensions': [('X', 512, 0.0, 0.414, 'µm'), ('Y', 512, 0.0, 0.414, 'µm'), ('Ch', 2, 0.0, 0.0, ''), ('', 1, 0.0, 0.0, ''), ('', 1, 0.0, 0.0, ''), ('', 1, 0.0, 0.0, ''), ('', 1, 0.0, 0.0, ''), ('', 1, 0.0, 0.0, ''), ('', 1, 0.0, 0.0, ''), ('', 1, 0.0, 0.0, '')], 'OffsetPosition': 0, 'MapType': 0, 'MapMin': 0.0, 'MapMax': 4095.0, 'MinValue': 0.0, 'MaxValue': 0.0, 'OffsetMap': 0, 'Gamma': 0.0, 'Offset': 0.0, 'GrayChannel': ('Intensity', 0, 0.0, 1.0, ''), 'OffsetThumbnail': 0, 'VoiceField': 0, 'OffsetVoiceField': 0, 'Stamp': array([0., 0., 0., 0., 0., 0., 0., 0.])}\n"
     ]
    }
   ],
   "source": [
    "print(tif.fluoview_metadata)"
   ]
  },
  {
   "cell_type": "code",
   "execution_count": 8,
   "metadata": {},
   "outputs": [],
   "source": [
    "images = tif.asarray()\n"
   ]
  },
  {
   "cell_type": "code",
   "execution_count": 9,
   "metadata": {},
   "outputs": [
    {
     "name": "stdout",
     "output_type": "stream",
     "text": [
      "(2, 512, 512)\n"
     ]
    }
   ],
   "source": [
    "print(images.shape)"
   ]
  },
  {
   "cell_type": "code",
   "execution_count": 12,
   "metadata": {},
   "outputs": [],
   "source": [
    "%matplotlib qt\n",
    "fig, ax = plt.subplots(1,2)\n",
    "names = ['NBD','LissRhod']\n",
    "for i in range(images.shape[0]):\n",
    "    ax[i].imshow(images[i],)\n",
    "    ax[i].set_title(names[i])"
   ]
  },
  {
   "cell_type": "markdown",
   "metadata": {},
   "source": [
    "# Threshold\n",
    "## This is done as the GUV in the liss rhod channel is much brighter than the background"
   ]
  },
  {
   "cell_type": "code",
   "execution_count": 13,
   "metadata": {},
   "outputs": [],
   "source": [
    "def create_bin_edges(image):\n",
    "    bin_image = np.zeros_like(image)\n",
    "    # threshold = threshold_otsu(images[1])\n",
    "    threshold = np.mean(image)+ 3*np.std(image)\n",
    "    bin_image[image> threshold ] = 1\n",
    "    return bin_image"
   ]
  },
  {
   "cell_type": "code",
   "execution_count": 27,
   "metadata": {},
   "outputs": [
    {
     "data": {
      "text/plain": [
       "<matplotlib.image.AxesImage at 0x7f6e48b97070>"
      ]
     },
     "execution_count": 27,
     "metadata": {},
     "output_type": "execute_result"
    }
   ],
   "source": [
    "plt.figure()\n",
    "plt.imshow(bin_image)"
   ]
  },
  {
   "cell_type": "code",
   "execution_count": 67,
   "metadata": {},
   "outputs": [],
   "source": [
    "radii = np.arange(5,30,3)\n",
    "hough_res = hough_circle(bin_image,radii)\n"
   ]
  },
  {
   "cell_type": "code",
   "execution_count": 68,
   "metadata": {},
   "outputs": [],
   "source": [
    "accums,cx,cy,radii = hough_circle_peaks(hough_res,radii,min_xdistance=20,min_ydistance=20)"
   ]
  },
  {
   "cell_type": "code",
   "execution_count": null,
   "metadata": {},
   "outputs": [],
   "source": []
  },
  {
   "cell_type": "code",
   "execution_count": 69,
   "metadata": {},
   "outputs": [
    {
     "data": {
      "text/plain": [
       "(array([348, 346, 193,  10, 393, 278, 193, 261]),\n",
       " array([106, 106, 287, 149, 430, 250, 287, 177]))"
      ]
     },
     "execution_count": 69,
     "metadata": {},
     "output_type": "execute_result"
    }
   ],
   "source": [
    "cx[:8],cy[:8]"
   ]
  },
  {
   "cell_type": "code",
   "execution_count": 70,
   "metadata": {},
   "outputs": [
    {
     "data": {
      "text/plain": [
       "(array([1.        , 1.        , 0.94078947, 0.90625   , 0.8125    ,\n",
       "        0.78125   , 0.66176471, 0.65625   ]),\n",
       " array([ 8,  5, 26,  5,  5,  5, 23,  5]))"
      ]
     },
     "execution_count": 70,
     "metadata": {},
     "output_type": "execute_result"
    }
   ],
   "source": [
    "accums[:8],radii[:8]"
   ]
  },
  {
   "cell_type": "markdown",
   "metadata": {},
   "source": [
    "# Filter peaks for multiple detections\n",
    "## This is achieved by setting an overlap threshold between pairs of peaks below which the two detections are considered to be from the same true peak.\n"
   ]
  },
  {
   "cell_type": "markdown",
   "metadata": {},
   "source": [
    "### Firstly, we don't expect to find more than 8 guvs in one image for example. so we clip the detections to the top 8 detections"
   ]
  },
  {
   "cell_type": "code",
   "execution_count": 3,
   "metadata": {},
   "outputs": [],
   "source": [
    "def clip_detections(accums,cx,cy,radii,N=8):\n",
    "    accums = accums[:N]\n",
    "    cx = cx[:N]\n",
    "    cy = cy[:N]\n",
    "    radii = radii[:N]\n",
    "    return accums,cx,cy,radii\n"
   ]
  },
  {
   "cell_type": "code",
   "execution_count": 86,
   "metadata": {},
   "outputs": [],
   "source": [
    "#reshape the peak coordinates to exploit some numpy optimizations\n",
    "\n",
    "cxcy = np.vstack((cx,cy)).T\n"
   ]
  },
  {
   "cell_type": "code",
   "execution_count": 4,
   "metadata": {},
   "outputs": [],
   "source": [
    "def find_duplicates(cxcy):\n",
    "    #cxcy -> ndarray of shape (N_detections,2): initial detected centre coordinates of circles\n",
    "    \n",
    "    for i in range(cxcy.shape[0]):\n",
    "        peak = cxcy[i]\n",
    "        rest  = cxcy[i+1:]\n",
    "\n",
    "        dists = np.linalg.norm(rest - peak,axis = 1)\n",
    "        if i == 0:\n",
    "\n",
    "            multi_detections = np.nonzero(dists < 20)[0] +i+1\n",
    "            \n",
    "        else:\n",
    "            multi_detections = np.concatenate((multi_detections,np.nonzero(dists < 20)[0]+i+1))\n",
    "\n",
    "    return np.unique(multi_detections)\n",
    "\n",
    "    "
   ]
  },
  {
   "cell_type": "code",
   "execution_count": 113,
   "metadata": {},
   "outputs": [],
   "source": [
    "to_remove = find_duplicates(cxcy)"
   ]
  },
  {
   "cell_type": "code",
   "execution_count": 114,
   "metadata": {},
   "outputs": [
    {
     "data": {
      "text/plain": [
       "array([1, 6])"
      ]
     },
     "execution_count": 114,
     "metadata": {},
     "output_type": "execute_result"
    }
   ],
   "source": [
    "to_remove"
   ]
  },
  {
   "cell_type": "code",
   "execution_count": 5,
   "metadata": {},
   "outputs": [],
   "source": [
    "def remove_duplicates(accum,cx,cy,radii,duplicate_coords):\n",
    "    #accum -> 1darray: ordered results of voting on hough circles\n",
    "    #cx -> 1darray: most likely x coords by voting\n",
    "    #cy -> 1darray: most likely y coords by voting\n",
    "    #duplicate_coords -> 1darray: indices of duplicate detections to remove\n",
    "    \n",
    "    accum = np.delete(accum,duplicate_coords)\n",
    "    cx = np.delete(cx,duplicate_coords)\n",
    "    cy = np.delete(cy,duplicate_coords)\n",
    "    radii = np.delete(radii,duplicate_coords)\n",
    "    return accum,cx,cy,radii"
   ]
  },
  {
   "cell_type": "code",
   "execution_count": 117,
   "metadata": {},
   "outputs": [],
   "source": [
    "hough_vals = remove_duplicates(accums,cx,cy,radii,duplicate_coords=to_remove)"
   ]
  },
  {
   "cell_type": "code",
   "execution_count": 118,
   "metadata": {},
   "outputs": [
    {
     "data": {
      "text/plain": [
       "(array([1.        , 0.94078947, 0.90625   , 0.8125    , 0.78125   ,\n",
       "        0.65625   ]),\n",
       " array([348, 193,  10, 393, 278, 261]),\n",
       " array([106, 287, 149, 430, 250, 177]),\n",
       " array([ 8, 26,  5,  5,  5,  5]))"
      ]
     },
     "execution_count": 118,
     "metadata": {},
     "output_type": "execute_result"
    }
   ],
   "source": [
    "hough_vals"
   ]
  },
  {
   "cell_type": "code",
   "execution_count": 6,
   "metadata": {},
   "outputs": [
    {
     "ename": "NameError",
     "evalue": "name 'images' is not defined",
     "output_type": "error",
     "traceback": [
      "\u001b[0;31m---------------------------------------------------------------------------\u001b[0m",
      "\u001b[0;31mNameError\u001b[0m                                 Traceback (most recent call last)",
      "\u001b[0;32m<ipython-input-6-888483316084>\u001b[0m in \u001b[0;36m<module>\u001b[0;34m\u001b[0m\n\u001b[1;32m     17\u001b[0m     \u001b[0;32mreturn\u001b[0m \u001b[0mdetections_img\u001b[0m\u001b[0;34m\u001b[0m\u001b[0;34m\u001b[0m\u001b[0m\n\u001b[1;32m     18\u001b[0m \u001b[0;34m\u001b[0m\u001b[0m\n\u001b[0;32m---> 19\u001b[0;31m \u001b[0mdetections_img\u001b[0m \u001b[0;34m=\u001b[0m \u001b[0msegment_detections\u001b[0m\u001b[0;34m(\u001b[0m\u001b[0mimages\u001b[0m\u001b[0;34m[\u001b[0m\u001b[0;36m1\u001b[0m\u001b[0;34m]\u001b[0m\u001b[0;34m,\u001b[0m\u001b[0mhough_vals\u001b[0m\u001b[0;34m)\u001b[0m\u001b[0;34m\u001b[0m\u001b[0;34m\u001b[0m\u001b[0m\n\u001b[0m",
      "\u001b[0;31mNameError\u001b[0m: name 'images' is not defined"
     ]
    }
   ],
   "source": [
    "\n",
    "def segment_detections(image,hough_vals):\n",
    "    #image -> ndarray (512,512): raw image \n",
    "    #hough_vals -> tuple of 4 1d_arrays : post processed hough circle detection\n",
    "    ##############  (accumulator,c_x,c_y,radii)\n",
    "    \n",
    "    \n",
    "    detections_img  = np.zeros_like(image)\n",
    "    i = 1\n",
    "    for x,y, rad in zip(hough_vals[1],hough_vals[2],hough_vals[3]):\n",
    "\n",
    "        circy,circx = circle_perimeter(y,x,rad)\n",
    "        detections_img[circy[circx < 512][circy[circx <512] < 512],circx[circx < 512][circy[circx<512] < 512]] = i\n",
    "        i +=1\n",
    "    # plt.imshow(images[1])\n",
    "    # plt.imshow(detections_img,alpha=1)\n",
    "\n",
    "    return detections_img\n",
    "\n",
    "detections_img = segment_detections(images[1],hough_vals)\n"
   ]
  },
  {
   "cell_type": "markdown",
   "metadata": {},
   "source": [
    "# Create dictionary of guv membrane Intensities for both NBD and LissRhod"
   ]
  },
  {
   "cell_type": "code",
   "execution_count": 7,
   "metadata": {},
   "outputs": [],
   "source": [
    "#configurations\n",
    "radii = np.arange(5,30,3)\n",
    "N = 8"
   ]
  },
  {
   "cell_type": "code",
   "execution_count": 15,
   "metadata": {},
   "outputs": [],
   "source": [
    "\n",
    "\n",
    "def getFretvals(image_directory,N_image,radii,N=8):\n",
    "    \n",
    "    \n",
    "    membrane_intensities={}\n",
    "    guv_radii = {}\n",
    "    \n",
    "    for frame in range(10,N_image):\n",
    "        frame = str(frame)\n",
    "        if len(frame)==1:\n",
    "            frame = '0'+str(frame)\n",
    "        try:\n",
    "            tif = tf.TiffFile(image_directory+'/tifs/Image00'+frame+'.tif')\n",
    "        except FileNotFoundError:\n",
    "            continue\n",
    "        images = tif.asarray()\n",
    "\n",
    "        #create binary edges for circle detection\n",
    "        bin_image = create_bin_edges(images[1])\n",
    "\n",
    "        #circle detection with Hough transform\n",
    "\n",
    "        hough_res = hough_circle(bin_image,radii)\n",
    "\n",
    "        hough_vals = hough_circle_peaks(hough_res,radii)\n",
    "\n",
    "        #clip detections: we don't expect there to be more than a few GUVs in one frame\n",
    "\n",
    "        hough_vals = clip_detections(*hough_vals,N)\n",
    "\n",
    "        #reshape the peak coordinates to exploit some numpy optimizations\n",
    "\n",
    "        cxcy = np.vstack((hough_vals[1],hough_vals[2])).T\n",
    "\n",
    "        #Due to bug in scikit image hough circle peaks function, need to remove duplicates\n",
    "\n",
    "        duplicates = find_duplicates(cxcy)\n",
    "\n",
    "        hough_vals = remove_duplicates(*hough_vals,duplicates)\n",
    "\n",
    "        #Segment instances of circles to get individual GUV membranes\n",
    "\n",
    "        detections_img = segment_detections(images[1],hough_vals)\n",
    "\n",
    "        for _id in np.unique(detections_img):\n",
    "            membrane_intensities[frame+'_'+str(_id)] = [np.mean(images[0][detections_img==_id]),np.mean(images[1][detections_img == _id])]\n",
    "            guv_radii[frame+'_'+str(_id)] = len(detections_img[detections_img==_id])/(2*np.pi)\n",
    "            \n",
    "            \n",
    "    return membrane_intensities,guv_radii\n",
    "\n"
   ]
  },
  {
   "cell_type": "code",
   "execution_count": 16,
   "metadata": {},
   "outputs": [],
   "source": [
    "membrane_intensities10dot75,guv_radii10dot75 = getFretvals('/home/marcus/20200828_FRET_NBD_CALIB1pcNBD_0dot75pc_lissrhod/',55,radii)"
   ]
  },
  {
   "cell_type": "code",
   "execution_count": 17,
   "metadata": {},
   "outputs": [],
   "source": [
    "membrane_intensities11,guv_radii11 = getFretvals('/home/marcus/20200827_NBDFRET_CALIB_1pcNBD1pcLissRhod/',32,radii)"
   ]
  },
  {
   "cell_type": "code",
   "execution_count": 45,
   "metadata": {},
   "outputs": [
    {
     "data": {
      "text/plain": [
       "{'10_0': [530.2029511978976, 371.0551506539543],\n",
       " '10_1': [3670.464285714286, 3673.25],\n",
       " '10_2': [701.3214285714286, 2407.6428571428573],\n",
       " '10_3': [1078.121212121212, 2362.340909090909],\n",
       " '10_4': [1343.7987804878048, 2515.5731707317073],\n",
       " '11_0': [525.4025613685092, 372.6978066705649],\n",
       " '11_1': [2132.285714285714, 1921.5714285714287],\n",
       " '11_2': [1634.3513513513512, 2904.6824324324325],\n",
       " '11_3': [914.5909090909091, 1770.3181818181818],\n",
       " '11_4': [2469.9285714285716, 1673.9285714285713],\n",
       " '11_5': [1006.2142857142857, 2147.6785714285716],\n",
       " '11_6': [1493.7073170731708, 2277.7642276422766],\n",
       " '12_0': [523.7375352918733, 360.18487981686377],\n",
       " '12_1': [2101.931818181818, 3559.25],\n",
       " '13_0': [510.2394724381787, 349.67729987322633],\n",
       " '13_1': [3688.6428571428573, 2919.5],\n",
       " '13_2': [1264.972972972973, 2442.608108108108],\n",
       " '13_3': [1947.1785714285713, 1692.3214285714287],\n",
       " '13_4': [716.4285714285714, 1172.9642857142858],\n",
       " '13_5': [945.5714285714286, 1132.5714285714287],\n",
       " '14_0': [513.1656463727406, 351.37583582681975],\n",
       " '14_1': [1206.7954545454545, 2627.8863636363635],\n",
       " '14_2': [1452.7142857142858, 1930.4285714285713],\n",
       " '14_3': [1301.392857142857, 1847.392857142857],\n",
       " '14_4': [1193.6785714285713, 1933.5],\n",
       " '15_0': [511.8160797154546, 350.9225285461318],\n",
       " '15_1': [1214.5357142857142, 1472.392857142857],\n",
       " '15_2': [1364.7857142857142, 1719.2857142857142],\n",
       " '15_3': [720.0357142857143, 1397.642857142857],\n",
       " '15_4': [960.9642857142857, 1372.142857142857],\n",
       " '16_0': [533.7756530705775, 373.49052856706385],\n",
       " '16_1': [3372.1071428571427, 4086.3928571428573],\n",
       " '16_2': [981.3484848484849, 2383.378787878788],\n",
       " '16_3': [944.3375, 2341.0375],\n",
       " '16_4': [2909.03125, 2179.421875],\n",
       " '17_0': [530.4247046793444, 359.7618700589115],\n",
       " '17_1': [1412.5714285714287, 1913.4285714285713],\n",
       " '17_2': [2770.1428571428573, 3278.75],\n",
       " '18_0': [478.042352725593, 325.7224472499742],\n",
       " '18_1': [597.3571428571429, 1972.892857142857],\n",
       " '18_2': [1394.9862068965517, 2443.8896551724138],\n",
       " '18_3': [1023.0357142857143, 1345.642857142857],\n",
       " '19_0': [469.89469144096, 311.3412394271581],\n",
       " '19_1': [1828.0625, 2733.0833333333335],\n",
       " '19_2': [3693.1428571428573, 2973.1428571428573],\n",
       " '19_3': [2761.1428571428573, 2547.0714285714284],\n",
       " '20_0': [468.23944011610143, 328.68193171402385],\n",
       " '20_1': [1428.7857142857142, 2019.3214285714287],\n",
       " '20_2': [1667.9451219512196, 3069.0426829268295],\n",
       " '20_3': [1352.9285714285713, 1824.3214285714287],\n",
       " '20_4': [651.1071428571429, 2003.607142857143],\n",
       " '20_5': [2607.8571428571427, 1737.4642857142858],\n",
       " '20_6': [924.4642857142857, 1177.7857142857142],\n",
       " '21_0': [465.6129607564578, 326.83062187800743],\n",
       " '21_1': [3610.0, 3071.285714285714],\n",
       " '21_2': [1181.1097560975609, 2412.682926829268],\n",
       " '21_3': [3818.5227272727275, 2513.9772727272725],\n",
       " '21_4': [2753.3928571428573, 2204.0714285714284],\n",
       " '21_5': [859.0357142857143, 2140.0],\n",
       " '22_0': [461.9900693087445, 320.0166402051783],\n",
       " '22_1': [3169.5, 3223.7954545454545],\n",
       " '22_2': [3599.714285714286, 2150.6785714285716],\n",
       " '22_3': [2460.785714285714, 1581.107142857143],\n",
       " '22_4': [3845.214285714286, 3059.3214285714284],\n",
       " '23_0': [457.38604850039707, 318.45939847901775],\n",
       " '23_1': [3533.8863636363635, 2731.318181818182],\n",
       " '23_2': [4020.75, 3888.1071428571427],\n",
       " '23_3': [3037.25, 3675.3928571428573],\n",
       " '23_4': [2363.8571428571427, 1741.642857142857],\n",
       " '23_5': [1246.85, 1902.9875],\n",
       " '24_0': [461.8381677175091, 319.9642268293055],\n",
       " '24_1': [2877.568181818182, 2149.909090909091],\n",
       " '24_2': [4050.409090909091, 3891.181818181818],\n",
       " '24_3': [3874.431818181818, 3098.3636363636365],\n",
       " '25_0': [466.0313292202437, 324.62380883296174],\n",
       " '25_1': [2046.392857142857, 1707.0357142857142],\n",
       " '25_2': [1599.607142857143, 2097.5],\n",
       " '25_3': [2484.535714285714, 1464.9285714285713],\n",
       " '25_4': [964.9469696969697, 1484.840909090909],\n",
       " '26_0': [481.8800415229139, 329.75682380239977],\n",
       " '26_1': [2584.785714285714, 1780.3214285714287],\n",
       " '26_2': [1591.828125, 2514.359375],\n",
       " '26_3': [1019.9642857142857, 1431.0],\n",
       " '27_0': [502.7911377904046, 342.4678015549344],\n",
       " '27_1': [2450.464285714286, 1890.75],\n",
       " '27_2': [1001.796875, 1533.28125],\n",
       " '27_3': [1553.107142857143, 1228.0714285714287],\n",
       " '27_4': [1181.1785714285713, 1144.392857142857],\n",
       " '27_5': [668.7142857142857, 1056.5357142857142],\n",
       " '27_6': [707.1071428571429, 1208.7857142857142],\n",
       " '28_0': [507.14686374183304, 348.8874488612078],\n",
       " '28_1': [3987.6785714285716, 3193.0714285714284],\n",
       " '28_2': [3522.1071428571427, 2548.464285714286],\n",
       " '28_3': [1194.2857142857142, 1639.642857142857],\n",
       " '28_4': [3808.4285714285716, 3206.214285714286],\n",
       " '29_0': [509.89573474185573, 351.8159672396422],\n",
       " '29_1': [1121.46875, 2545.03125],\n",
       " '29_2': [3129.1428571428573, 2581.1428571428573],\n",
       " '29_3': [976.8571428571429, 1377.392857142857],\n",
       " '30_0': [534.2189165050916, 343.6549098487046],\n",
       " '30_1': [1862.892857142857, 1534.9642857142858],\n",
       " '30_2': [1271.3214285714287, 1341.0357142857142],\n",
       " '30_3': [1738.857142857143, 1222.8214285714287],\n",
       " '30_4': [1336.3214285714287, 1361.9285714285713],\n",
       " '30_5': [1223.9642857142858, 1121.4285714285713],\n",
       " '31_0': [525.8783911696005, 341.43141707760185],\n",
       " '31_1': [2009.392857142857, 1681.4285714285713],\n",
       " '31_2': [2550.285714285714, 1507.5],\n",
       " '31_3': [1489.0, 1223.4285714285713],\n",
       " '31_4': [1865.0, 1168.392857142857],\n",
       " '31_5': [1436.8214285714287, 1147.0357142857142]}"
      ]
     },
     "execution_count": 45,
     "metadata": {},
     "output_type": "execute_result"
    }
   ],
   "source": [
    "membrane_intensities11"
   ]
  },
  {
   "cell_type": "markdown",
   "metadata": {},
   "source": [
    "# Use numpy indexing to filter GUV detections by radius"
   ]
  },
  {
   "cell_type": "code",
   "execution_count": 32,
   "metadata": {},
   "outputs": [],
   "source": [
    "frets1to0dot75 = {}\n",
    "for key in membrane_intensities10dot75.keys():\n",
    "    frets1to0dot75[key] = membrane_intensities10dot75[key][1]/membrane_intensities10dot75[key][0]"
   ]
  },
  {
   "cell_type": "code",
   "execution_count": 46,
   "metadata": {},
   "outputs": [],
   "source": [
    "frets11 = {}\n",
    "for key in membrane_intensities11.keys():\n",
    "    frets11[key] = membrane_intensities11[key][1]/membrane_intensities11[key][0]"
   ]
  },
  {
   "cell_type": "code",
   "execution_count": 60,
   "metadata": {},
   "outputs": [],
   "source": [
    "frets11data = np.array(list(frets11.values()))\n",
    "frets11keys = np.array(list(frets11.keys()))\n",
    "radii11data = np.array(list(guv_radii11.values()))"
   ]
  },
  {
   "cell_type": "code",
   "execution_count": 57,
   "metadata": {},
   "outputs": [],
   "source": [
    "frets75data = np.array(list(frets1to0dot75.values()))\n",
    "frets75keys = np.array(list(frets1to0dot75.keys()))\n",
    "radii75data=np.array(list(guv_radii10dot75.values()))"
   ]
  },
  {
   "cell_type": "code",
   "execution_count": 62,
   "metadata": {},
   "outputs": [],
   "source": [
    "frets11data = frets11data[radii11data < 30]\n",
    "frets11keys = frets11keys[radii11data < 30]\n",
    "radii11data = radii11data[radii11data < 30]\n",
    "\n",
    "frets11data = frets11data[radii11data >= 15]\n",
    "frets11keys = frets11keys[radii11data >= 15]\n",
    "radii11data = radii11data[radii11data >= 15]"
   ]
  },
  {
   "cell_type": "code",
   "execution_count": 63,
   "metadata": {},
   "outputs": [],
   "source": [
    "frets75data = frets75data[radii75data < 30]\n",
    "frets75keys = frets75keys[radii75data < 30]\n",
    "radii75data = radii75data[radii75data < 30]\n",
    "\n",
    "frets75data = frets75data[radii75data >= 15]\n",
    "frets75keys = frets75keys[radii75data >= 15]\n",
    "radii75data = radii75data[radii75data >= 15]"
   ]
  },
  {
   "cell_type": "code",
   "execution_count": 68,
   "metadata": {},
   "outputs": [
    {
     "data": {
      "text/plain": [
       "(array([4., 1., 4., 9., 9., 3., 5., 2., 2., 1.]),\n",
       " array([0.63908322, 0.69678491, 0.7544866 , 0.8121883 , 0.86988999,\n",
       "        0.92759169, 0.98529338, 1.04299507, 1.10069677, 1.15839846,\n",
       "        1.21610016]),\n",
       " <BarContainer object of 10 artists>)"
      ]
     },
     "execution_count": 68,
     "metadata": {},
     "output_type": "execute_result"
    }
   ],
   "source": [
    "%matplotlib qt\n",
    "plt.hist(frets11data,10)\n",
    "plt.hist(frets75data,10)"
   ]
  },
  {
   "cell_type": "markdown",
   "metadata": {},
   "source": []
  },
  {
   "cell_type": "code",
   "execution_count": 29,
   "metadata": {},
   "outputs": [
    {
     "data": {
      "text/plain": [
       "<matplotlib.collections.PathCollection at 0x7f8f80319fd0>"
      ]
     },
     "execution_count": 29,
     "metadata": {},
     "output_type": "execute_result"
    },
    {
     "data": {
      "image/png": "[encoded data removed]",
      "text/plain": [
       "<Figure size 432x288 with 1 Axes>"
      ]
     },
     "metadata": {
      "needs_background": "light"
     },
     "output_type": "display_data"
    }
   ],
   "source": [
    "plt.scatter(radii11vals[radii11vals < 30],frets11vals[radii11vals < 30])"
   ]
  },
  {
   "cell_type": "code",
   "execution_count": 31,
   "metadata": {},
   "outputs": [
    {
     "data": {
      "text/plain": [
       "(array([63.,  8.,  3.,  2.,  0.,  1.,  1.,  5.,  3.,  3.]),\n",
       " array([ 4.45633841,  6.62084563,  8.78535286, 10.94986008, 13.11436731,\n",
       "        15.27887454, 17.44338176, 19.60788899, 21.77239621, 23.93690344,\n",
       "        26.10141067]),\n",
       " <BarContainer object of 10 artists>)"
      ]
     },
     "execution_count": 31,
     "metadata": {},
     "output_type": "execute_result"
    },
    {
     "data": {
      "image/png": "[encoded data removed]",
      "text/plain": [
       "<Figure size 432x288 with 1 Axes>"
      ]
     },
     "metadata": {
      "needs_background": "light"
     },
     "output_type": "display_data"
    }
   ],
   "source": [
    "plt.hist(np.array(list(guv_radii11.values()))[np.array(list(guv_radii11.values())) < 30])"
   ]
  },
  {
   "cell_type": "code",
   "execution_count": 174,
   "metadata": {},
   "outputs": [
    {
     "data": {
      "text/plain": [
       "(array([ 8., 32., 19.,  9.,  7.,  6.,  6., 10.,  4.,  6.,  5.,  8.,  4.,\n",
       "         3.,  6.,  4.,  1.,  2.,  2.,  3.,  3.,  2.,  1.,  1.,  0.,  0.,\n",
       "         0.,  1.,  0.,  1.]),\n",
       " array([0.54800022, 0.63982362, 0.73164703, 0.82347043, 0.91529384,\n",
       "        1.00711724, 1.09894065, 1.19076405, 1.28258746, 1.37441086,\n",
       "        1.46623427, 1.55805768, 1.64988108, 1.74170449, 1.83352789,\n",
       "        1.9253513 , 2.0171747 , 2.10899811, 2.20082151, 2.29264492,\n",
       "        2.38446832, 2.47629173, 2.56811514, 2.65993854, 2.75176195,\n",
       "        2.84358535, 2.93540876, 3.02723216, 3.11905557, 3.21087897,\n",
       "        3.30270238]),\n",
       " <BarContainer object of 30 artists>)"
      ]
     },
     "execution_count": 174,
     "metadata": {},
     "output_type": "execute_result"
    }
   ],
   "source": [
    "fig,ax = plt.subplots(1,1)\n",
    "ax.hist(frets.values(),bins=30,)\n",
    "ax.hist(frets11.values(),bins=30)"
   ]
  },
  {
   "cell_type": "code",
   "execution_count": 165,
   "metadata": {},
   "outputs": [
    {
     "data": {
      "text/plain": [
       "(array([0., 0., 0., 0., 0., 0., 0., 0., 0., 0., 0., 0., 0., 0., 0., 0., 0.,\n",
       "        0., 0., 0., 0., 0., 0., 0., 0., 0., 0., 0., 0., 0.]),\n",
       " array([0.        , 0.03333333, 0.06666667, 0.1       , 0.13333333,\n",
       "        0.16666667, 0.2       , 0.23333333, 0.26666667, 0.3       ,\n",
       "        0.33333333, 0.36666667, 0.4       , 0.43333333, 0.46666667,\n",
       "        0.5       , 0.53333333, 0.56666667, 0.6       , 0.63333333,\n",
       "        0.66666667, 0.7       , 0.73333333, 0.76666667, 0.8       ,\n",
       "        0.83333333, 0.86666667, 0.9       , 0.93333333, 0.96666667,\n",
       "        1.        ]),\n",
       " <BarContainer object of 30 artists>)"
      ]
     },
     "execution_count": 165,
     "metadata": {},
     "output_type": "execute_result"
    }
   ],
   "source": [
    "plt.hist(frets11.values(),bins=30)"
   ]
  },
  {
   "cell_type": "code",
   "execution_count": null,
   "metadata": {},
   "outputs": [],
   "source": []
  }
 ],
 "metadata": {
  "kernelspec": {
   "display_name": "Python 3",
   "language": "python",
   "name": "python3"
  },
  "language_info": {
   "codemirror_mode": {
    "name": "ipython",
    "version": 3
   },
   "file_extension": ".py",
   "mimetype": "text/x-python",
   "name": "python",
   "nbconvert_exporter": "python",
   "pygments_lexer": "ipython3",
   "version": "3.8.5"
  }
 },
 "nbformat": 4,
 "nbformat_minor": 4
}
